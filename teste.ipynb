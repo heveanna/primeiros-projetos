{
 "cells": [
  {
   "cell_type": "code",
   "execution_count": 2,
   "id": "73d891e8",
   "metadata": {},
   "outputs": [],
   "source": [
    "class Pessoa:\n",
    "    def __int__(self, idade):\n",
    "        self.idade = idade\n",
    "        print ('A idade da pessoa é', self.idade)\n",
    "\n",
    "idade_pessoa = input('Digite a sua idade: ')\n"
   ]
  },
  {
   "cell_type": "code",
   "execution_count": null,
   "id": "1585a1cf",
   "metadata": {},
   "outputs": [],
   "source": []
  }
 ],
 "metadata": {
  "kernelspec": {
   "display_name": "Python 3",
   "language": "python",
   "name": "python3"
  },
  "language_info": {
   "codemirror_mode": {
    "name": "ipython",
    "version": 3
   },
   "file_extension": ".py",
   "mimetype": "text/x-python",
   "name": "python",
   "nbconvert_exporter": "python",
   "pygments_lexer": "ipython3",
   "version": "3.13.3"
  }
 },
 "nbformat": 4,
 "nbformat_minor": 5
}
