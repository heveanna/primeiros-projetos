{
 "cells": [
  {
   "cell_type": "code",
   "execution_count": null,
   "id": "73d891e8",
   "metadata": {},
   "outputs": [],
   "source": [
    "class Pessoa:\n",
    "    def __int__(self, idade):\n",
    "        self.idade = idade\n",
    "        print ('A idade da pessoa é', self.idade)\n",
    "\n",
    "idade_pessoa = input('Digite a sua idade: ')"
   ]
  },
  {
   "cell_type": "code",
   "execution_count": 3,
   "id": "1585a1cf",
   "metadata": {},
   "outputs": [
    {
     "name": "stdout",
     "output_type": "stream",
     "text": [
      "Kiki\n",
      "Cookie\n",
      "Bichano\n",
      "Pet\n"
     ]
    }
   ],
   "source": [
    "class Gato:\n",
    "    tipo_animal = 'Felino'\n",
    "\n",
    "    def __init__(self, nome):\n",
    "        self.nome = nome \n",
    "\n",
    "Gato.tipo_animal = 'Pet'\n",
    "\n",
    "g1 = Gato ('Kiki')\n",
    "g2 = Gato ('Cookie')\n",
    "\n",
    "\n",
    "print(g1.nome)\n",
    "print(g2.nome)\n",
    "\n",
    "g1.tipo_animal = 'Bichano'\n",
    "\n",
    "print(g1.tipo_animal)\n",
    "print(g2.tipo_animal)\n"
   ]
  }
 ],
 "metadata": {
  "kernelspec": {
   "display_name": "Python 3",
   "language": "python",
   "name": "python3"
  },
  "language_info": {
   "codemirror_mode": {
    "name": "ipython",
    "version": 3
   },
   "file_extension": ".py",
   "mimetype": "text/x-python",
   "name": "python",
   "nbconvert_exporter": "python",
   "pygments_lexer": "ipython3",
   "version": "3.13.3"
  }
 },
 "nbformat": 4,
 "nbformat_minor": 5
}
